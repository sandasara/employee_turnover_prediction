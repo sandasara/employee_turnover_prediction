{
 "cells": [
  {
   "cell_type": "code",
   "execution_count": 23,
   "id": "c831b131",
   "metadata": {},
   "outputs": [],
   "source": [
    "import pandas as pd\n",
    "import pickle\n",
    "from xgboost import XGBClassifier\n",
    "from xgboost import XGBRegressor"
   ]
  },
  {
   "cell_type": "code",
   "execution_count": 24,
   "id": "eebe3804",
   "metadata": {},
   "outputs": [],
   "source": [
    "# Load the saved XGBoost classifier model\n",
    "with open('xgb_classification_model.pkl', 'rb') as model_file:\n",
    "    loaded_model = pickle.load(model_file)"
   ]
  },
  {
   "cell_type": "code",
   "execution_count": 25,
   "id": "984d8815",
   "metadata": {},
   "outputs": [],
   "source": [
    "# Load the saved XGBoost classifier model\n",
    "with open('xgb_regression_model.pkl', 'rb') as r_model_file:\n",
    "    loaded_r_model = pickle.load(r_model_file)"
   ]
  },
  {
   "cell_type": "code",
   "execution_count": 26,
   "id": "46391812",
   "metadata": {},
   "outputs": [
    {
     "data": {
      "text/html": [
       "<div>\n",
       "<style scoped>\n",
       "    .dataframe tbody tr th:only-of-type {\n",
       "        vertical-align: middle;\n",
       "    }\n",
       "\n",
       "    .dataframe tbody tr th {\n",
       "        vertical-align: top;\n",
       "    }\n",
       "\n",
       "    .dataframe thead th {\n",
       "        text-align: right;\n",
       "    }\n",
       "</style>\n",
       "<table border=\"1\" class=\"dataframe\">\n",
       "  <thead>\n",
       "    <tr style=\"text-align: right;\">\n",
       "      <th></th>\n",
       "      <th>profile_name</th>\n",
       "      <th>number_of_jobs</th>\n",
       "      <th>first_job_level</th>\n",
       "      <th>first_job_recency_months</th>\n",
       "      <th>first_job_duration_months</th>\n",
       "      <th>first_company_size</th>\n",
       "      <th>first_company_age_years</th>\n",
       "      <th>first_company_apparel</th>\n",
       "      <th>first_company_sri_lankan</th>\n",
       "      <th>last_job_level</th>\n",
       "      <th>...</th>\n",
       "      <th>last_qual_duration_months</th>\n",
       "      <th>last_institute_size</th>\n",
       "      <th>last_institute_age_years</th>\n",
       "      <th>last_institute_sri_lankan</th>\n",
       "      <th>minimum_qual_duration_months</th>\n",
       "      <th>maximum_qual_duration_months</th>\n",
       "      <th>average_qual_duration_months</th>\n",
       "      <th>total_qual_duration_months</th>\n",
       "      <th>number_of_institutes</th>\n",
       "      <th>duration ratio in sri lanka_y</th>\n",
       "    </tr>\n",
       "  </thead>\n",
       "  <tbody>\n",
       "    <tr>\n",
       "      <th>0</th>\n",
       "      <td>dishan-sandasara</td>\n",
       "      <td>2</td>\n",
       "      <td>1</td>\n",
       "      <td>39</td>\n",
       "      <td>7</td>\n",
       "      <td>3.0</td>\n",
       "      <td>84</td>\n",
       "      <td>0</td>\n",
       "      <td>1</td>\n",
       "      <td>1</td>\n",
       "      <td>...</td>\n",
       "      <td>36</td>\n",
       "      <td>4.0</td>\n",
       "      <td>148.0</td>\n",
       "      <td>1</td>\n",
       "      <td>0</td>\n",
       "      <td>36</td>\n",
       "      <td>18.0</td>\n",
       "      <td>36</td>\n",
       "      <td>2</td>\n",
       "      <td>1.0</td>\n",
       "    </tr>\n",
       "  </tbody>\n",
       "</table>\n",
       "<p>1 rows × 49 columns</p>\n",
       "</div>"
      ],
      "text/plain": [
       "       profile_name  number_of_jobs  first_job_level  \\\n",
       "0  dishan-sandasara               2                1   \n",
       "\n",
       "   first_job_recency_months  first_job_duration_months  first_company_size  \\\n",
       "0                        39                          7                 3.0   \n",
       "\n",
       "   first_company_age_years  first_company_apparel  first_company_sri_lankan  \\\n",
       "0                       84                      0                         1   \n",
       "\n",
       "   last_job_level  ...  last_qual_duration_months  last_institute_size  \\\n",
       "0               1  ...                         36                  4.0   \n",
       "\n",
       "   last_institute_age_years  last_institute_sri_lankan  \\\n",
       "0                     148.0                          1   \n",
       "\n",
       "   minimum_qual_duration_months  maximum_qual_duration_months  \\\n",
       "0                             0                            36   \n",
       "\n",
       "   average_qual_duration_months  total_qual_duration_months  \\\n",
       "0                          18.0                          36   \n",
       "\n",
       "   number_of_institutes  duration ratio in sri lanka_y  \n",
       "0                     2                            1.0  \n",
       "\n",
       "[1 rows x 49 columns]"
      ]
     },
     "execution_count": 26,
     "metadata": {},
     "output_type": "execute_result"
    }
   ],
   "source": [
    "df = pd.read_csv('C:\\\\Users\\\\dishans\\\\OneDrive - MAS Holdings (Pvt) Ltd\\\\LinkedIn web scrape\\\\basic-scrapy-project\\\\encoded_data\\\\final_dataset.csv')\n",
    "df\n",
    "# C:\\Users\\dishans\\OneDrive - MAS Holdings (Pvt) Ltd\\LinkedIn web scrape\\basic-scrapy-project\\encoded_data"
   ]
  },
  {
   "cell_type": "code",
   "execution_count": 27,
   "id": "7c22de3a",
   "metadata": {},
   "outputs": [
    {
     "data": {
      "text/html": [
       "<div>\n",
       "<style scoped>\n",
       "    .dataframe tbody tr th:only-of-type {\n",
       "        vertical-align: middle;\n",
       "    }\n",
       "\n",
       "    .dataframe tbody tr th {\n",
       "        vertical-align: top;\n",
       "    }\n",
       "\n",
       "    .dataframe thead th {\n",
       "        text-align: right;\n",
       "    }\n",
       "</style>\n",
       "<table border=\"1\" class=\"dataframe\">\n",
       "  <thead>\n",
       "    <tr style=\"text-align: right;\">\n",
       "      <th></th>\n",
       "      <th>number_of_jobs</th>\n",
       "      <th>first_job_level</th>\n",
       "      <th>first_job_recency_months</th>\n",
       "      <th>first_job_duration_months</th>\n",
       "      <th>first_company_size</th>\n",
       "      <th>first_company_age_years</th>\n",
       "      <th>first_company_apparel</th>\n",
       "      <th>first_company_sri_lankan</th>\n",
       "      <th>last_job_level</th>\n",
       "      <th>last_job_recency_months</th>\n",
       "      <th>...</th>\n",
       "      <th>last_qual_duration_months</th>\n",
       "      <th>last_institute_size</th>\n",
       "      <th>last_institute_age_years</th>\n",
       "      <th>last_institute_sri_lankan</th>\n",
       "      <th>minimum_qual_duration_months</th>\n",
       "      <th>maximum_qual_duration_months</th>\n",
       "      <th>average_qual_duration_months</th>\n",
       "      <th>total_qual_duration_months</th>\n",
       "      <th>number_of_institutes</th>\n",
       "      <th>duration ratio in sri lanka_y</th>\n",
       "    </tr>\n",
       "  </thead>\n",
       "  <tbody>\n",
       "    <tr>\n",
       "      <th>0</th>\n",
       "      <td>2</td>\n",
       "      <td>1</td>\n",
       "      <td>39</td>\n",
       "      <td>7</td>\n",
       "      <td>3.0</td>\n",
       "      <td>84</td>\n",
       "      <td>0</td>\n",
       "      <td>1</td>\n",
       "      <td>1</td>\n",
       "      <td>5</td>\n",
       "      <td>...</td>\n",
       "      <td>36</td>\n",
       "      <td>4.0</td>\n",
       "      <td>148.0</td>\n",
       "      <td>1</td>\n",
       "      <td>0</td>\n",
       "      <td>36</td>\n",
       "      <td>18.0</td>\n",
       "      <td>36</td>\n",
       "      <td>2</td>\n",
       "      <td>1.0</td>\n",
       "    </tr>\n",
       "  </tbody>\n",
       "</table>\n",
       "<p>1 rows × 48 columns</p>\n",
       "</div>"
      ],
      "text/plain": [
       "   number_of_jobs  first_job_level  first_job_recency_months  \\\n",
       "0               2                1                        39   \n",
       "\n",
       "   first_job_duration_months  first_company_size  first_company_age_years  \\\n",
       "0                          7                 3.0                       84   \n",
       "\n",
       "   first_company_apparel  first_company_sri_lankan  last_job_level  \\\n",
       "0                      0                         1               1   \n",
       "\n",
       "   last_job_recency_months  ...  last_qual_duration_months  \\\n",
       "0                        5  ...                         36   \n",
       "\n",
       "   last_institute_size  last_institute_age_years  last_institute_sri_lankan  \\\n",
       "0                  4.0                     148.0                          1   \n",
       "\n",
       "   minimum_qual_duration_months  maximum_qual_duration_months  \\\n",
       "0                             0                            36   \n",
       "\n",
       "   average_qual_duration_months  total_qual_duration_months  \\\n",
       "0                          18.0                          36   \n",
       "\n",
       "   number_of_institutes  duration ratio in sri lanka_y  \n",
       "0                     2                            1.0  \n",
       "\n",
       "[1 rows x 48 columns]"
      ]
     },
     "execution_count": 27,
     "metadata": {},
     "output_type": "execute_result"
    }
   ],
   "source": [
    "X = df.drop([\"profile_name\"], axis=1)\n",
    "X"
   ]
  },
  {
   "cell_type": "code",
   "execution_count": 28,
   "id": "517a0b65",
   "metadata": {},
   "outputs": [
    {
     "data": {
      "text/plain": [
       "array([1])"
      ]
     },
     "execution_count": 28,
     "metadata": {},
     "output_type": "execute_result"
    }
   ],
   "source": [
    "# Assuming `new_data` is your new data for predictions\n",
    "predictions = loaded_model.predict(X)\n",
    "predictions"
   ]
  },
  {
   "cell_type": "code",
   "execution_count": 29,
   "id": "1dcb400d",
   "metadata": {},
   "outputs": [
    {
     "data": {
      "text/plain": [
       "array([1])"
      ]
     },
     "execution_count": 29,
     "metadata": {},
     "output_type": "execute_result"
    }
   ],
   "source": [
    "r_predictions = loaded_r_model.predict(X)\n",
    "r_predictions"
   ]
  },
  {
   "cell_type": "code",
   "execution_count": 31,
   "id": "57bd6808",
   "metadata": {},
   "outputs": [
    {
     "name": "stdout",
     "output_type": "stream",
     "text": [
      "Turnover possibility:  [1]\n",
      "Job change horizon:  [1]\n"
     ]
    }
   ],
   "source": [
    "import pandas as pd\n",
    "import pickle\n",
    "from xgboost import XGBClassifier\n",
    "from xgboost import XGBRegressor\n",
    "\n",
    "# Load the saved XGBoost classifier model\n",
    "with open('xgb_classification_model.pkl', 'rb') as classification_model_file:\n",
    "    classification_model = pickle.load(classification_model_file)\n",
    "\n",
    "df = pd.read_csv('C:\\\\Users\\\\dishans\\\\OneDrive - MAS Holdings (Pvt) Ltd\\\\LinkedIn web scrape\\\\basic-scrapy-project\\\\encoded_data\\\\final_dataset.csv')\n",
    "\n",
    "X = df.drop([\"profile_name\"], axis=1)\n",
    "\n",
    "# Assuming `new_data` is your new data for predictions\n",
    "job_change_predictions = classification_model.predict(X)\n",
    "\n",
    "print('Turnover possibility: ', job_change_predictions)\n",
    "\n",
    "if job_change_predictions != 0:\n",
    "    # Load the saved XGBoost classifier model\n",
    "    with open('xgb_regression_model.pkl', 'rb') as regression_model_file:\n",
    "        regression_model = pickle.load(regression_model_file)\n",
    "\n",
    "    job_change_horizon_predictions = regression_model.predict(X)\n",
    "\n",
    "    print('Job change horizon: ', job_change_horizon_predictions)\n",
    "\n",
    "else:\n",
    "    print(0)"
   ]
  },
  {
   "cell_type": "code",
   "execution_count": null,
   "id": "afe17cfb",
   "metadata": {},
   "outputs": [],
   "source": []
  }
 ],
 "metadata": {
  "kernelspec": {
   "display_name": "Python 3 (ipykernel)",
   "language": "python",
   "name": "python3"
  },
  "language_info": {
   "codemirror_mode": {
    "name": "ipython",
    "version": 3
   },
   "file_extension": ".py",
   "mimetype": "text/x-python",
   "name": "python",
   "nbconvert_exporter": "python",
   "pygments_lexer": "ipython3",
   "version": "3.11.5"
  }
 },
 "nbformat": 4,
 "nbformat_minor": 5
}
