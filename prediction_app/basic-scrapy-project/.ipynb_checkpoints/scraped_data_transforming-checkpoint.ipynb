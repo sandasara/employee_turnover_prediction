{
 "cells": [
  {
   "cell_type": "code",
   "execution_count": 1,
   "id": "879c0960",
   "metadata": {},
   "outputs": [],
   "source": [
    "import pandas as pd\n",
    "import numpy as np\n",
    "from datetime import datetime\n",
    "import json"
   ]
  },
  {
   "cell_type": "code",
   "execution_count": 2,
   "id": "d2a254fa",
   "metadata": {},
   "outputs": [
    {
     "data": {
      "text/html": [
       "<div>\n",
       "<style scoped>\n",
       "    .dataframe tbody tr th:only-of-type {\n",
       "        vertical-align: middle;\n",
       "    }\n",
       "\n",
       "    .dataframe tbody tr th {\n",
       "        vertical-align: top;\n",
       "    }\n",
       "\n",
       "    .dataframe thead th {\n",
       "        text-align: right;\n",
       "    }\n",
       "</style>\n",
       "<table border=\"1\" class=\"dataframe\">\n",
       "  <thead>\n",
       "    <tr style=\"text-align: right;\">\n",
       "      <th></th>\n",
       "      <th>profile</th>\n",
       "      <th>url</th>\n",
       "      <th>name</th>\n",
       "      <th>description</th>\n",
       "      <th>location</th>\n",
       "      <th>followers</th>\n",
       "      <th>connections</th>\n",
       "      <th>about</th>\n",
       "      <th>experience</th>\n",
       "      <th>education</th>\n",
       "      <th>certifications</th>\n",
       "      <th>publications</th>\n",
       "      <th>awards</th>\n",
       "    </tr>\n",
       "  </thead>\n",
       "  <tbody>\n",
       "    <tr>\n",
       "      <th>0</th>\n",
       "      <td>ganguli-wijewardana</td>\n",
       "      <td>https://www.linkedin.com/in/ganguli-wijewardana/</td>\n",
       "      <td>Ganguli Wijewardhana</td>\n",
       "      <td>Assistant manager - Operations &amp; Systems Analy...</td>\n",
       "      <td>Colombo District, Western Province, Sri Lanka</td>\n",
       "      <td>450</td>\n",
       "      <td>434</td>\n",
       "      <td>Highly motivated and accomplished professional...</td>\n",
       "      <td>[{'position': 'Assistant Manager - Operations ...</td>\n",
       "      <td>[{'organisation': 'University of Kelaniya Sri ...</td>\n",
       "      <td>[{'certification_title': '', 'certification_is...</td>\n",
       "      <td>[{'publication_title': '', 'publication_link':...</td>\n",
       "      <td>[]</td>\n",
       "    </tr>\n",
       "    <tr>\n",
       "      <th>1</th>\n",
       "      <td>harsha-karunanayake-875636a8</td>\n",
       "      <td>https://www.linkedin.com/in/harsha-karunanayak...</td>\n",
       "      <td>Harsha Karunanayake</td>\n",
       "      <td>Process Improvement Consultant at MAS Holdings</td>\n",
       "      <td>Kandy, Central Province, Sri Lanka</td>\n",
       "      <td>2K</td>\n",
       "      <td>500+</td>\n",
       "      <td>Is a Systematic Problem Solver, Ideologist, Pr...</td>\n",
       "      <td>[{'position': 'Process Improvement Consultant'...</td>\n",
       "      <td>[{'organisation': 'University of Kelaniya Sri ...</td>\n",
       "      <td>[{'certification_title': '', 'certification_is...</td>\n",
       "      <td>[]</td>\n",
       "      <td>[]</td>\n",
       "    </tr>\n",
       "  </tbody>\n",
       "</table>\n",
       "</div>"
      ],
      "text/plain": [
       "                        profile  \\\n",
       "0           ganguli-wijewardana   \n",
       "1  harsha-karunanayake-875636a8   \n",
       "\n",
       "                                                 url                  name  \\\n",
       "0   https://www.linkedin.com/in/ganguli-wijewardana/  Ganguli Wijewardhana   \n",
       "1  https://www.linkedin.com/in/harsha-karunanayak...   Harsha Karunanayake   \n",
       "\n",
       "                                         description  \\\n",
       "0  Assistant manager - Operations & Systems Analy...   \n",
       "1     Process Improvement Consultant at MAS Holdings   \n",
       "\n",
       "                                        location followers connections  \\\n",
       "0  Colombo District, Western Province, Sri Lanka       450         434   \n",
       "1             Kandy, Central Province, Sri Lanka        2K        500+   \n",
       "\n",
       "                                               about  \\\n",
       "0  Highly motivated and accomplished professional...   \n",
       "1  Is a Systematic Problem Solver, Ideologist, Pr...   \n",
       "\n",
       "                                          experience  \\\n",
       "0  [{'position': 'Assistant Manager - Operations ...   \n",
       "1  [{'position': 'Process Improvement Consultant'...   \n",
       "\n",
       "                                           education  \\\n",
       "0  [{'organisation': 'University of Kelaniya Sri ...   \n",
       "1  [{'organisation': 'University of Kelaniya Sri ...   \n",
       "\n",
       "                                      certifications  \\\n",
       "0  [{'certification_title': '', 'certification_is...   \n",
       "1  [{'certification_title': '', 'certification_is...   \n",
       "\n",
       "                                        publications awards  \n",
       "0  [{'publication_title': '', 'publication_link':...     []  \n",
       "1                                                 []     []  "
      ]
     },
     "execution_count": 2,
     "metadata": {},
     "output_type": "execute_result"
    }
   ],
   "source": [
    "df = pd.read_json('linkedin_people_profile_2023-10-05T05-49-39.jsonl',  lines=True)\n",
    "df.head(2)"
   ]
  },
  {
   "cell_type": "code",
   "execution_count": 3,
   "id": "0a2aa4e4",
   "metadata": {
    "collapsed": true
   },
   "outputs": [
    {
     "name": "stdout",
     "output_type": "stream",
     "text": [
      "<class 'pandas.core.frame.DataFrame'>\n",
      "RangeIndex: 12 entries, 0 to 11\n",
      "Data columns (total 13 columns):\n",
      " #   Column          Non-Null Count  Dtype \n",
      "---  ------          --------------  ----- \n",
      " 0   profile         12 non-null     object\n",
      " 1   url             12 non-null     object\n",
      " 2   name            12 non-null     object\n",
      " 3   description     12 non-null     object\n",
      " 4   location        11 non-null     object\n",
      " 5   followers       12 non-null     object\n",
      " 6   connections     12 non-null     object\n",
      " 7   about           9 non-null      object\n",
      " 8   experience      12 non-null     object\n",
      " 9   education       12 non-null     object\n",
      " 10  certifications  12 non-null     object\n",
      " 11  publications    12 non-null     object\n",
      " 12  awards          12 non-null     object\n",
      "dtypes: object(13)\n",
      "memory usage: 1.3+ KB\n"
     ]
    }
   ],
   "source": [
    "df.info()"
   ]
  },
  {
   "cell_type": "code",
   "execution_count": 112,
   "id": "8c6743f6",
   "metadata": {},
   "outputs": [
    {
     "data": {
      "text/plain": [
       "0     [{'position': 'Assistant Manager - Operations ...\n",
       "1     [{'position': 'Process Improvement Consultant'...\n",
       "2     [{'position': 'Assistant Manager - HR & Admini...\n",
       "3     [{'position': 'Senior Solutions Architect', 'o...\n",
       "4     [{'position': 'Assistant Manager - Engineering...\n",
       "5     [{'position': 'Manager - Data Science & Analyt...\n",
       "6     [{'position': 'Lead - Data Engineering & Scien...\n",
       "7     [{'position': 'Senior Executive - Technical op...\n",
       "8     [{'position': 'Deputy Head of Business Finance...\n",
       "9     [{'position': 'Manager - Organization Structur...\n",
       "10    [{'position': '', 'organisation': '', 'organis...\n",
       "11    [{'position': 'Central Autonomation Lead', 'or...\n",
       "Name: experience, dtype: object"
      ]
     },
     "execution_count": 112,
     "metadata": {},
     "output_type": "execute_result"
    }
   ],
   "source": [
    "df['experience']"
   ]
  },
  {
   "cell_type": "code",
   "execution_count": 5,
   "id": "1a33546b",
   "metadata": {
    "collapsed": true
   },
   "outputs": [
    {
     "data": {
      "text/plain": [
       "'Assistant Manager - Operations and Systems Analyst'"
      ]
     },
     "execution_count": 5,
     "metadata": {},
     "output_type": "execute_result"
    }
   ],
   "source": [
    "df['experience'][0][0]['position']"
   ]
  },
  {
   "cell_type": "code",
   "execution_count": 6,
   "id": "91f64a80",
   "metadata": {
    "collapsed": true
   },
   "outputs": [
    {
     "data": {
      "text/plain": [
       "[{'organisation': 'University of Kelaniya Sri Lanka',\n",
       "  'organisation_profile': 'https://www.linkedin.com/school/university-of-kelaniya-sri-lanka/',\n",
       "  'course_details': 'B.Sc. (hons) in Management and Information Technology Business System Engineering',\n",
       "  'description': 'Activities and Societies: Member of Leo club - University of Kelaniya\\nMember of Industrial Management Science Students Association - University of kelaniya',\n",
       "  'start_time': '2015',\n",
       "  'end_time': '2019'},\n",
       " {'organisation': 'Poramadulla Central College',\n",
       "  'organisation_profile': 'https://www.linkedin.com/school/poramadullacentralcollege/',\n",
       "  'course_details': 'High School Diploma Physical Sciences',\n",
       "  'description': 'Activities and Societies: School senior prefect - 2012/2013\\nSchool junior prefect - 2009/2010\\nMember of st john ambulance\\nMember of school western band',\n",
       "  'start_time': '2011',\n",
       "  'end_time': '2013'},\n",
       " {'organisation': 'Poramadulla Central College',\n",
       "  'organisation_profile': 'https://www.linkedin.com/school/poramadullacentralcollege/',\n",
       "  'course_details': 'Middle School Diploma',\n",
       "  'description': '',\n",
       "  'start_time': '2005',\n",
       "  'end_time': '2011'},\n",
       " {'organisation': 'CIMA',\n",
       "  'organisation_profile': 'https://www.linkedin.com/school/cima/',\n",
       "  'course_details': 'Accounting and Business/Management',\n",
       "  'description': ''}]"
      ]
     },
     "execution_count": 6,
     "metadata": {},
     "output_type": "execute_result"
    }
   ],
   "source": [
    "df['education'][0]"
   ]
  },
  {
   "cell_type": "markdown",
   "id": "c11aa144",
   "metadata": {},
   "source": [
    "Qualification section"
   ]
  },
  {
   "cell_type": "code",
   "execution_count": 8,
   "id": "921a26e9",
   "metadata": {},
   "outputs": [
    {
     "data": {
      "text/plain": [
       "[{'organisation': 'University of Kelaniya Sri Lanka',\n",
       "  'organisation_profile': 'https://www.linkedin.com/school/university-of-kelaniya-sri-lanka/',\n",
       "  'course_details': 'B.Sc. (hons) in Management and Information Technology Business System Engineering',\n",
       "  'description': 'Activities and Societies: Member of Leo club - University of Kelaniya\\nMember of Industrial Management Science Students Association - University of kelaniya',\n",
       "  'start_time': '2015',\n",
       "  'end_time': '2019'},\n",
       " {'organisation': 'Poramadulla Central College',\n",
       "  'organisation_profile': 'https://www.linkedin.com/school/poramadullacentralcollege/',\n",
       "  'course_details': 'High School Diploma Physical Sciences',\n",
       "  'description': 'Activities and Societies: School senior prefect - 2012/2013\\nSchool junior prefect - 2009/2010\\nMember of st john ambulance\\nMember of school western band',\n",
       "  'start_time': '2011',\n",
       "  'end_time': '2013'},\n",
       " {'organisation': 'Poramadulla Central College',\n",
       "  'organisation_profile': 'https://www.linkedin.com/school/poramadullacentralcollege/',\n",
       "  'course_details': 'Middle School Diploma',\n",
       "  'description': '',\n",
       "  'start_time': '2005',\n",
       "  'end_time': '2011'},\n",
       " {'organisation': 'CIMA',\n",
       "  'organisation_profile': 'https://www.linkedin.com/school/cima/',\n",
       "  'course_details': 'Accounting and Business/Management',\n",
       "  'description': ''}]"
      ]
     },
     "execution_count": 8,
     "metadata": {},
     "output_type": "execute_result"
    }
   ],
   "source": [
    "# selectiong one individual's qualification list\n",
    "individual_qualifications = df['education'][0]\n",
    "individual_qualifications"
   ]
  },
  {
   "cell_type": "code",
   "execution_count": 133,
   "id": "60ce8505",
   "metadata": {},
   "outputs": [],
   "source": [
    "# Filter and sort qualifications according to their level and recency\n",
    "\n",
    "def classify_and_order_qualifications(individual_qualifications):\n",
    "    level_order = {\n",
    "        'high school': 0,\n",
    "        'diploma': 1,\n",
    "        'bachelor': 2,\n",
    "        'masters': 3,\n",
    "        'phd': 4,\n",
    "    }\n",
    "    \n",
    "    classified_qualifications = {\n",
    "        'high school': [],\n",
    "        'diploma': [],\n",
    "        'bachelor': [],\n",
    "        'masters': [],\n",
    "        'phd': [],\n",
    "        'other': []\n",
    "    }\n",
    "    \n",
    "    for qualification in individual_qualifications:\n",
    "        course_details = qualification.get('course_details', '').lower()\n",
    "        \n",
    "        # Classify qualifications\n",
    "        if 'high school' in course_details or 'high school diploma' in course_details:\n",
    "            classified_qualifications['high school'].append(qualification)\n",
    "        elif 'diploma' in course_details:\n",
    "            classified_qualifications['diploma'].append(qualification)\n",
    "        elif 'bachelor' in course_details or 'b.sc.' in course_details or 'bsc.' in course_details:\n",
    "            classified_qualifications['bachelor'].append(qualification)\n",
    "        elif 'masters' in course_details or 'msc' in course_details:\n",
    "            classified_qualifications['masters'].append(qualification)\n",
    "        elif 'phd' in course_details:\n",
    "            classified_qualifications['phd'].append(qualification)\n",
    "        else:\n",
    "            classified_qualifications['other'].append(qualification)\n",
    "    \n",
    "    # Order qualifications within each level\n",
    "    for level, qualifications_list in classified_qualifications.items():\n",
    "        qualifications_list.sort(key=lambda x: (int(x.get('start_time', 0)), int(x.get('end_time', 0))))\n",
    "    \n",
    "    # Sort levels based on the specified hierarchy\n",
    "    ordered_individual_qualifications = []\n",
    "    for level, _ in sorted(level_order.items(), key=lambda x: x[1]):\n",
    "        ordered_individual_qualifications.extend(classified_qualifications[level])\n",
    "    \n",
    "    return ordered_individual_qualifications\n"
   ]
  },
  {
   "cell_type": "code",
   "execution_count": 135,
   "id": "1b0512db",
   "metadata": {},
   "outputs": [
    {
     "data": {
      "text/plain": [
       "[{'organisation': 'Poramadulla Central College',\n",
       "  'organisation_profile': 'https://www.linkedin.com/school/poramadullacentralcollege/',\n",
       "  'course_details': 'High School Diploma Physical Sciences',\n",
       "  'description': 'Activities and Societies: School senior prefect - 2012/2013\\nSchool junior prefect - 2009/2010\\nMember of st john ambulance\\nMember of school western band',\n",
       "  'start_time': '2011',\n",
       "  'end_time': '2013'},\n",
       " {'organisation': 'Poramadulla Central College',\n",
       "  'organisation_profile': 'https://www.linkedin.com/school/poramadullacentralcollege/',\n",
       "  'course_details': 'Middle School Diploma',\n",
       "  'description': '',\n",
       "  'start_time': '2005',\n",
       "  'end_time': '2011'},\n",
       " {'organisation': 'University of Kelaniya Sri Lanka',\n",
       "  'organisation_profile': 'https://www.linkedin.com/school/university-of-kelaniya-sri-lanka/',\n",
       "  'course_details': 'B.Sc. (hons) in Management and Information Technology Business System Engineering',\n",
       "  'description': 'Activities and Societies: Member of Leo club - University of Kelaniya\\nMember of Industrial Management Science Students Association - University of kelaniya',\n",
       "  'start_time': '2015',\n",
       "  'end_time': '2019'}]"
      ]
     },
     "execution_count": 135,
     "metadata": {},
     "output_type": "execute_result"
    }
   ],
   "source": [
    "# Example usage\n",
    "\n",
    "ordered_individual_qualifications = classify_and_order_qualifications(individual_qualifications)\n",
    "ordered_individual_qualifications"
   ]
  },
  {
   "cell_type": "code",
   "execution_count": 131,
   "id": "cc88b4af",
   "metadata": {},
   "outputs": [],
   "source": [
    "# Get the number of qualifications\n",
    "def get_number_of_qualifications(ordered_individual_qualifications):\n",
    "    number_of_qualifications = len(ordered_individual_qualifications)\n",
    "    return number_of_qualifications"
   ]
  },
  {
   "cell_type": "code",
   "execution_count": 132,
   "id": "7ea12a7d",
   "metadata": {},
   "outputs": [
    {
     "data": {
      "text/plain": [
       "3"
      ]
     },
     "execution_count": 132,
     "metadata": {},
     "output_type": "execute_result"
    }
   ],
   "source": [
    "number_of_qualifications = get_number_of_qualifications(ordered_individual_qualifications)\n",
    "number_of_qualifications"
   ]
  },
  {
   "cell_type": "code",
   "execution_count": 12,
   "id": "8abe1831",
   "metadata": {},
   "outputs": [],
   "source": [
    "# Find first qualification level\n",
    "\n",
    "def get_first_qualification_level(ordered_individual_qualifications):\n",
    "    # Define a dictionary to map qualification levels to encoding values\n",
    "    qualification_levels = {\n",
    "        'high school': 1,\n",
    "        'diploma': 2,\n",
    "        'bachelor': 3,\n",
    "        'bsc': 3,\n",
    "        'b.sc.': 3,\n",
    "        'master': 4,\n",
    "        'msc': 4,\n",
    "        'phd': 5\n",
    "    }\n",
    "    \n",
    "    # Convert the input string to lowercase for case-insensitive matching\n",
    "    input_string = ordered_individual_qualifications[0]['course_details']\n",
    "    input_string = input_string.lower()\n",
    "    \n",
    "    # Iterate through the qualification levels and check if they are in the input string\n",
    "    for qualification, encoding in qualification_levels.items():\n",
    "        if qualification in input_string:\n",
    "            return encoding\n",
    "    \n",
    "    # Return a default value (e.g., -1) if no match is found\n",
    "    return -1"
   ]
  },
  {
   "cell_type": "code",
   "execution_count": 13,
   "id": "73be3288",
   "metadata": {},
   "outputs": [
    {
     "name": "stdout",
     "output_type": "stream",
     "text": [
      "first qualification level:  1\n"
     ]
    }
   ],
   "source": [
    "encoding = get_first_qualification_level(ordered_individual_qualifications)\n",
    "print('first qualification level: ', encoding)"
   ]
  },
  {
   "cell_type": "code",
   "execution_count": 14,
   "id": "c54ce87f",
   "metadata": {},
   "outputs": [],
   "source": [
    "# Find The first qualification recency\n",
    "\n",
    "def calculate_first_qualification_recency(ordered_individual_qualifications):\n",
    "    end_time = ordered_individual_qualifications[0]['end_time']\n",
    "    # Convert the start_time string to a datetime object\n",
    "    end_date = datetime.strptime(end_time, '%Y')\n",
    "    \n",
    "    # Get the current date\n",
    "    current_date = datetime.now()\n",
    "    \n",
    "    # Calculate the year difference\n",
    "    recency = current_date.year - end_date.year\n",
    "    \n",
    "    return recency"
   ]
  },
  {
   "cell_type": "code",
   "execution_count": 15,
   "id": "88dac006",
   "metadata": {},
   "outputs": [
    {
     "name": "stdout",
     "output_type": "stream",
     "text": [
      "first_qualification_recency:  10\n"
     ]
    }
   ],
   "source": [
    "first_qualification_recency = calculate_first_qualification_recency(ordered_individual_qualifications)\n",
    "print('first_qualification_recency: ', first_qualification_recency)"
   ]
  },
  {
   "cell_type": "code",
   "execution_count": 16,
   "id": "9b426384",
   "metadata": {},
   "outputs": [],
   "source": [
    "def calculate_qualification_duration(start_time, end_time):\n",
    "    # Convert start_time and end_time strings to datetime objects\n",
    "    start_date = datetime.strptime(start_time, '%Y')\n",
    "    \n",
    "    # Check if 'present' is used as the end_time\n",
    "    if end_time.lower() == 'present':\n",
    "        end_date = datetime.now()\n",
    "    else:\n",
    "        end_date = datetime.strptime(end_time, '%Y')\n",
    "    \n",
    "    # Calculate the year difference\n",
    "    qualification_duration = end_date.year - start_date.year\n",
    "    \n",
    "    return qualification_duration"
   ]
  },
  {
   "cell_type": "code",
   "execution_count": 21,
   "id": "91906a80",
   "metadata": {},
   "outputs": [],
   "source": [
    "# Find first qualification time duration\n",
    "\n",
    "def calculate_first_qualification_duration(ordered_individual_qualifications):\n",
    "    start_time = ordered_individual_qualifications[0]['start_time']\n",
    "    end_time = ordered_individual_qualifications[0]['end_time']\n",
    "    \n",
    "    first_qualification_duration = calculate_qualification_duration(start_time, end_time)\n",
    "    \n",
    "    return first_qualification_duration"
   ]
  },
  {
   "cell_type": "code",
   "execution_count": 22,
   "id": "b632cd70",
   "metadata": {},
   "outputs": [
    {
     "name": "stdout",
     "output_type": "stream",
     "text": [
      "first qualification duration: 2\n"
     ]
    }
   ],
   "source": [
    "first_qualification_duration = calculate_first_qualification_duration(ordered_individual_qualifications)\n",
    "\n",
    "print(f\"first qualification duration: {first_qualification_duration}\")"
   ]
  },
  {
   "cell_type": "code",
   "execution_count": 23,
   "id": "8fbf7e32",
   "metadata": {},
   "outputs": [],
   "source": [
    "# Find first qualification level\n",
    "\n",
    "def get_last_qualification_level(ordered_individual_qualifications):\n",
    "    # Define a dictionary to map qualification levels to encoding values\n",
    "    qualification_levels = {\n",
    "        'high school': 1,\n",
    "        'diploma': 2,\n",
    "        'bachelor': 3,\n",
    "        'bsc': 3,\n",
    "        'b.sc.': 3,\n",
    "        'master': 4,\n",
    "        'msc': 4,\n",
    "        'phd': 5\n",
    "    }\n",
    "    \n",
    "    # Convert the input string to lowercase for case-insensitive matching\n",
    "    input_string = ordered_individual_qualifications[len(ordered_individual_qualifications)-1]['course_details']\n",
    "    input_string = input_string.lower()\n",
    "    \n",
    "    # Iterate through the qualification levels and check if they are in the input string\n",
    "    for qualification, encoding in qualification_levels.items():\n",
    "        if qualification in input_string:\n",
    "            return encoding\n",
    "    \n",
    "    # Return a default value (e.g., -1) if no match is found\n",
    "    return -1"
   ]
  },
  {
   "cell_type": "code",
   "execution_count": 24,
   "id": "ff2d8371",
   "metadata": {},
   "outputs": [
    {
     "name": "stdout",
     "output_type": "stream",
     "text": [
      "last qualification level:  3\n"
     ]
    }
   ],
   "source": [
    "encoding = get_last_qualification_level(ordered_individual_qualifications)\n",
    "print('last qualification level: ', encoding)"
   ]
  },
  {
   "cell_type": "code",
   "execution_count": 25,
   "id": "f45ab403",
   "metadata": {},
   "outputs": [],
   "source": [
    "# Find The last qualification recency\n",
    "\n",
    "def calculate_last_qualification_recency(ordered_individual_qualifications):\n",
    "    end_time = ordered_individual_qualifications[len(ordered_individual_qualifications)-1]['end_time']\n",
    "    # Convert the start_time string to a datetime object\n",
    "    end_date = datetime.strptime(end_time, '%Y')\n",
    "    \n",
    "    # Get the current date\n",
    "    current_date = datetime.now()\n",
    "    \n",
    "    # Calculate the year difference\n",
    "    recency = current_date.year - end_date.year\n",
    "    \n",
    "    return recency"
   ]
  },
  {
   "cell_type": "code",
   "execution_count": 26,
   "id": "8bf7f620",
   "metadata": {},
   "outputs": [
    {
     "name": "stdout",
     "output_type": "stream",
     "text": [
      "last_qualification_recency:  4\n"
     ]
    }
   ],
   "source": [
    "last_qualification_recency = calculate_last_qualification_recency(ordered_individual_qualifications)\n",
    "print('last_qualification_recency: ', last_qualification_recency)"
   ]
  },
  {
   "cell_type": "code",
   "execution_count": 29,
   "id": "455a629d",
   "metadata": {},
   "outputs": [],
   "source": [
    "# Find last qualification time duration\n",
    "\n",
    "def calculate_last_qualification_duration(ordered_individual_qualifications):\n",
    "    start_time = ordered_individual_qualifications[len(ordered_individual_qualifications)-1]['start_time']\n",
    "    end_time = ordered_individual_qualifications[len(ordered_individual_qualifications)-1]['end_time']\n",
    "    \n",
    "    last_qualification_duration = calculate_qualification_duration(start_time, end_time)\n",
    "    \n",
    "    return last_qualification_duration"
   ]
  },
  {
   "cell_type": "code",
   "execution_count": 30,
   "id": "17a8430b",
   "metadata": {},
   "outputs": [
    {
     "name": "stdout",
     "output_type": "stream",
     "text": [
      "last qualification duration:  4\n"
     ]
    }
   ],
   "source": [
    "last_qualification_duration = calculate_last_qualification_duration(ordered_individual_qualifications)\n",
    "\n",
    "print('last qualification duration: ', last_qualification_duration)"
   ]
  },
  {
   "cell_type": "code",
   "execution_count": 31,
   "id": "77240dcc",
   "metadata": {},
   "outputs": [],
   "source": [
    "# min and max duration\n",
    "# Initialize variables to keep track of maximum and minimum durations\n",
    "def calculate_qualification_durations(ordered_individual_qualifications):\n",
    "    max_duration = float('-inf')  # Initialize as negative infinity\n",
    "    min_duration = float('inf')   # Initialize as positive infinity\n",
    "    total_duration = 0\n",
    "    count = 0\n",
    "\n",
    "    # Iterate through the list and calculate durations\n",
    "    for qualification in ordered_individual_qualifications:\n",
    "        start_time = qualification['start_time']\n",
    "        end_time = qualification['end_time']\n",
    "\n",
    "        # Calculate the year difference for the current item\n",
    "        duration = calculate_qualification_duration(start_time, end_time)\n",
    "\n",
    "        # Update maximum and minimum durations if needed\n",
    "        if duration > max_duration:\n",
    "            max_duration = duration\n",
    "        if duration < min_duration:\n",
    "            min_duration = duration\n",
    "\n",
    "        # Update total duration and count\n",
    "        total_duration += duration\n",
    "        count += 1\n",
    "\n",
    "    # Calculate the average duration\n",
    "    average_duration = total_duration / count\n",
    "    \n",
    "    return max_duration, min_duration, average_duration, total_duration\n"
   ]
  },
  {
   "cell_type": "code",
   "execution_count": 32,
   "id": "30345033",
   "metadata": {},
   "outputs": [
    {
     "name": "stdout",
     "output_type": "stream",
     "text": [
      "Maximum Duration: 6 years\n",
      "Minimum Duration: 2 years\n",
      "Average Duration: 4.00 years\n",
      "Total Duration: 12 years\n"
     ]
    }
   ],
   "source": [
    "max_duration, min_duration, average_duration, total_duration = calculate_qualification_durations(ordered_individual_qualifications)\n",
    "\n",
    "print(f\"Maximum Duration: {max_duration} years\")\n",
    "print(f\"Minimum Duration: {min_duration} years\")\n",
    "print(f\"Average Duration: {average_duration:.2f} years\")\n",
    "print(f\"Total Duration: {total_duration} years\")"
   ]
  },
  {
   "cell_type": "markdown",
   "id": "2302d332",
   "metadata": {},
   "source": [
    "Experience Section"
   ]
  },
  {
   "cell_type": "code",
   "execution_count": 140,
   "id": "f75147ad",
   "metadata": {},
   "outputs": [
    {
     "data": {
      "text/plain": [
       "[{'position': 'Assistant Manager - Operations and Systems Analyst',\n",
       "  'organisation': 'MAS KREEDA',\n",
       "  'organisation_profile': 'https://www.linkedin.com/company/mas-kreeda',\n",
       "  'location': 'Sri Lanka',\n",
       "  'start_time': 'Aug 2023',\n",
       "  'end_time': 'present',\n",
       "  'duration': '3 months',\n",
       "  'description': ''},\n",
       " {'position': 'Senior Executive - Operations & Systems Analyst',\n",
       "  'organisation': 'MAS KREEDA',\n",
       "  'organisation_profile': 'https://www.linkedin.com/company/mas-kreeda',\n",
       "  'location': 'Colombo, Western, Sri Lanka',\n",
       "  'start_time': 'Apr 2022',\n",
       "  'end_time': 'Aug 2023',\n",
       "  'duration': '1 year 5 months',\n",
       "  'description': ''},\n",
       " {'position': 'Executive - Operations & Systems Analyst',\n",
       "  'organisation': 'MAS KREEDA',\n",
       "  'organisation_profile': 'https://www.linkedin.com/company/mas-kreeda',\n",
       "  'location': 'Colombo, Sri Lanka',\n",
       "  'start_time': 'Jan 2019',\n",
       "  'end_time': 'Mar 2022',\n",
       "  'duration': '3 years 3 months',\n",
       "  'description': ''},\n",
       " {'position': 'Intern',\n",
       "  'organisation': 'MAS Intimates',\n",
       "  'organisation_profile': 'https://www.linkedin.com/company/mas-intimates',\n",
       "  'location': 'Pallekele',\n",
       "  'start_time': 'Sep 2017',\n",
       "  'end_time': 'Feb 2018',\n",
       "  'duration': '6 months',\n",
       "  'description': ''}]"
      ]
     },
     "execution_count": 140,
     "metadata": {},
     "output_type": "execute_result"
    }
   ],
   "source": [
    "# selectiong one individual's qualification list\n",
    "individual_experience = df['experience'][0]\n",
    "individual_experience"
   ]
  },
  {
   "cell_type": "code",
   "execution_count": 141,
   "id": "8340adc7",
   "metadata": {},
   "outputs": [],
   "source": [
    "# Get the number of qualifications\n",
    "def get_number_of_experience(individual_experience):\n",
    "    number_of_experience = len(individual_experience)\n",
    "    return number_of_experience"
   ]
  },
  {
   "cell_type": "code",
   "execution_count": 142,
   "id": "966f4896",
   "metadata": {},
   "outputs": [
    {
     "data": {
      "text/plain": [
       "4"
      ]
     },
     "execution_count": 142,
     "metadata": {},
     "output_type": "execute_result"
    }
   ],
   "source": [
    "number_of_experience = get_number_of_experience(individual_experience)\n",
    "number_of_experience"
   ]
  },
  {
   "cell_type": "code",
   "execution_count": 35,
   "id": "5e44e5ed",
   "metadata": {},
   "outputs": [],
   "source": [
    "# Get job level\n",
    "def get_first_job_level(individual_experience):\n",
    "    # Define a dictionary to map qualification levels to encoding values\n",
    "    job_levels = {\n",
    "        'executive': 1,\n",
    "        'senior executive': 2,\n",
    "        'assistant manager': 3,\n",
    "        'associate manager': 3,\n",
    "        'manager': 4,\n",
    "        'deputy general manager': 5,\n",
    "        'general manager': 6,\n",
    "        'director': 7,\n",
    "        'ceo': 8,\n",
    "    }\n",
    "    \n",
    "    # Convert the input string to lowercase for case-insensitive matching\n",
    "    input_string = individual_experience[len(individual_experience)-1]['position']\n",
    "    input_string = input_string.lower()\n",
    "    \n",
    "    # Iterate through the qualification levels and check if they are in the input string\n",
    "    for job, encoding in job_levels.items():\n",
    "        if job in input_string:\n",
    "            return encoding\n",
    "    \n",
    "    # Return a default value (e.g., -1) if no match is found\n",
    "    return -1"
   ]
  },
  {
   "cell_type": "code",
   "execution_count": 36,
   "id": "c55fa09f",
   "metadata": {},
   "outputs": [
    {
     "name": "stdout",
     "output_type": "stream",
     "text": [
      "first job level:  -1\n"
     ]
    }
   ],
   "source": [
    "encoding = get_first_job_level(individual_experience)\n",
    "print('first job level: ', encoding)"
   ]
  },
  {
   "cell_type": "code",
   "execution_count": 59,
   "id": "5c0a8b2e",
   "metadata": {},
   "outputs": [],
   "source": [
    "def calculate_first_job_recency(individual_experience):\n",
    "    end_time = individual_experience[len(individual_experience)-1]['end_time']\n",
    "    \n",
    "    if end_time.lower() == 'present':\n",
    "        return 0  # If the end_time is 'present,' return 0 years of recency\n",
    "\n",
    "    # Convert the end_time string to a datetime object\n",
    "    end_date = datetime.strptime(end_time, '%b %Y')\n",
    "    \n",
    "    # Get the current date\n",
    "    current_date = datetime.now()\n",
    "    \n",
    "    # Calculate the year difference\n",
    "    years_diff = current_date.year - end_date.year\n",
    "    months_diff = current_date.month - end_date.month\n",
    "        \n",
    "    recency = years_diff + (months_diff / 12.0)\n",
    "    \n",
    "    # Round total_recency to two decimal places\n",
    "    recency = round(recency, 2)\n",
    "    \n",
    "    return recency"
   ]
  },
  {
   "cell_type": "code",
   "execution_count": 60,
   "id": "6a70a2dd",
   "metadata": {},
   "outputs": [
    {
     "name": "stdout",
     "output_type": "stream",
     "text": [
      "first_job_recency:  5.67\n"
     ]
    }
   ],
   "source": [
    "first_job_recency = calculate_first_job_recency(individual_experience)\n",
    "print('first_job_recency: ', first_job_recency)"
   ]
  },
  {
   "cell_type": "code",
   "execution_count": 91,
   "id": "c9903468",
   "metadata": {},
   "outputs": [],
   "source": [
    "def calculate_job_duration(duration):\n",
    "    # Extract the 'duration' value from the dictionary\n",
    "#     duration_str = individual_experience['duration']\n",
    "\n",
    "    # Split the 'duration' value into months and years\n",
    "    duration_parts = duration.split()\n",
    "\n",
    "    # Initialize variables to store the number of months and years\n",
    "    total_months = 0\n",
    "    total_years = 0\n",
    "\n",
    "    # Iterate through the 'duration' parts and sum up months and years\n",
    "    for i in range(0, len(duration_parts), 2):\n",
    "        value = int(duration_parts[i])\n",
    "        unit = duration_parts[i + 1].lower()\n",
    "\n",
    "        if unit == 'months':\n",
    "            total_months += value\n",
    "        elif unit == 'years':\n",
    "            total_years += value\n",
    "\n",
    "    # Calculate the total duration in months and then convert to years\n",
    "    total_duration_in_months = total_months + (total_years * 12)\n",
    "    total_duration_in_years = total_duration_in_months / 12\n",
    "\n",
    "    return total_duration_in_years"
   ]
  },
  {
   "cell_type": "code",
   "execution_count": 92,
   "id": "36527068",
   "metadata": {},
   "outputs": [],
   "source": [
    "def calculate_first_job_duration(individual_experience):\n",
    "    duration = individual_experience[len(individual_experience)-1]['duration']\n",
    "    \n",
    "    first_job_duration = calculate_job_duration(duration)\n",
    "    \n",
    "    return first_job_duration"
   ]
  },
  {
   "cell_type": "code",
   "execution_count": 93,
   "id": "b17b160e",
   "metadata": {},
   "outputs": [
    {
     "name": "stdout",
     "output_type": "stream",
     "text": [
      "first job duration:  0.5\n"
     ]
    }
   ],
   "source": [
    "first_job_duration = calculate_first_job_duration(individual_experience)\n",
    "\n",
    "print('first job duration: ', first_job_duration)"
   ]
  },
  {
   "cell_type": "code",
   "execution_count": 94,
   "id": "7a9bd4c0",
   "metadata": {},
   "outputs": [],
   "source": [
    "# Get job level\n",
    "def get_last_job_level(individual_experience):\n",
    "    # Define a dictionary to map qualification levels to encoding values\n",
    "    job_levels = {\n",
    "        'executive': 1,\n",
    "        'senior executive': 2,\n",
    "        'assistant manager': 3,\n",
    "        'associate manager': 3,\n",
    "        'manager': 4,\n",
    "        'deputy general manager': 5,\n",
    "        'general manager': 6,\n",
    "        'director': 7,\n",
    "        'ceo': 8,\n",
    "    }\n",
    "    \n",
    "    # Convert the input string to lowercase for case-insensitive matching\n",
    "    input_string = individual_experience[0]['position']\n",
    "    input_string = input_string.lower()\n",
    "    \n",
    "    # Iterate through the qualification levels and check if they are in the input string\n",
    "    for job, encoding in job_levels.items():\n",
    "        if job in input_string:\n",
    "            return encoding\n",
    "    \n",
    "    # Return a default value (e.g., -1) if no match is found\n",
    "    return -1"
   ]
  },
  {
   "cell_type": "code",
   "execution_count": 95,
   "id": "91335428",
   "metadata": {},
   "outputs": [
    {
     "name": "stdout",
     "output_type": "stream",
     "text": [
      "last job level:  3\n"
     ]
    }
   ],
   "source": [
    "encoding = get_last_job_level(individual_experience)\n",
    "print('last job level: ', encoding)"
   ]
  },
  {
   "cell_type": "code",
   "execution_count": 97,
   "id": "8044b364",
   "metadata": {},
   "outputs": [],
   "source": [
    "def calculate_last_job_recency(individual_experience):\n",
    "    end_time = individual_experience[0]['end_time']\n",
    "    \n",
    "    if end_time.lower() == 'present':\n",
    "        return 0  # If the end_time is 'present,' return 0 years of recency\n",
    "\n",
    "    # Convert the end_time string to a datetime object\n",
    "    end_date = datetime.strptime(end_time, '%b %Y')\n",
    "    \n",
    "    # Get the current date\n",
    "    current_date = datetime.now()\n",
    "    \n",
    "    # Calculate the year difference\n",
    "    years_diff = current_date.year - end_date.year\n",
    "    months_diff = current_date.month - end_date.month\n",
    "        \n",
    "    recency = years_diff + (months_diff / 12.0)\n",
    "    \n",
    "    # Round total_recency to two decimal places\n",
    "    recency = round(recency, 2)\n",
    "    \n",
    "    return recency"
   ]
  },
  {
   "cell_type": "code",
   "execution_count": 98,
   "id": "6e310bea",
   "metadata": {},
   "outputs": [
    {
     "name": "stdout",
     "output_type": "stream",
     "text": [
      "last_job_recency:  0\n"
     ]
    }
   ],
   "source": [
    "last_job_recency = calculate_last_job_recency(individual_experience)\n",
    "print('last_job_recency: ', last_job_recency)"
   ]
  },
  {
   "cell_type": "code",
   "execution_count": 99,
   "id": "b43c990e",
   "metadata": {},
   "outputs": [],
   "source": [
    "def calculate_last_job_duration(individual_experience):\n",
    "    duration = individual_experience[0]['duration']\n",
    "    \n",
    "    first_job_duration = calculate_job_duration(duration)\n",
    "    \n",
    "    return first_job_duration"
   ]
  },
  {
   "cell_type": "code",
   "execution_count": 100,
   "id": "876cb606",
   "metadata": {},
   "outputs": [
    {
     "name": "stdout",
     "output_type": "stream",
     "text": [
      "first job duration:  0.25\n"
     ]
    }
   ],
   "source": [
    "last_job_duration = calculate_last_job_duration(individual_experience)\n",
    "\n",
    "print('first job duration: ', last_job_duration)"
   ]
  },
  {
   "cell_type": "code",
   "execution_count": 101,
   "id": "156810e5",
   "metadata": {},
   "outputs": [],
   "source": [
    "def calculate_job_durations(individual_experience):\n",
    "    max_duration = 0\n",
    "    min_duration = float('inf')\n",
    "    total_duration = 0\n",
    "\n",
    "    # Calculate durations and update variables\n",
    "    for experience in individual_experience:\n",
    "        duration_str = experience['duration']\n",
    "        duration = calculate_job_duration(duration_str)\n",
    "\n",
    "        if duration > max_duration:\n",
    "            max_duration = duration\n",
    "\n",
    "        if duration < min_duration:\n",
    "            min_duration = duration\n",
    "\n",
    "        total_duration += duration\n",
    "\n",
    "    # Calculate average duration\n",
    "    average_duration = total_duration / len(individual_experience)\n",
    "    \n",
    "    return max_duration, min_duration, average_duration, total_duration"
   ]
  },
  {
   "cell_type": "code",
   "execution_count": 102,
   "id": "c6e76d7f",
   "metadata": {},
   "outputs": [
    {
     "name": "stdout",
     "output_type": "stream",
     "text": [
      "Maximum Duration: 3.25 years\n",
      "Minimum Duration: 0.25 years\n",
      "Average Duration: 1.10 years\n",
      "Total Duration: 4.416666666666667 years\n"
     ]
    }
   ],
   "source": [
    "max_duration, min_duration, average_duration, total_duration = calculate_job_durations(individual_experience)\n",
    "\n",
    "print(f\"Maximum Duration: {max_duration} years\")\n",
    "print(f\"Minimum Duration: {min_duration} years\")\n",
    "print(f\"Average Duration: {average_duration:.2f} years\")\n",
    "print(f\"Total Duration: {total_duration} years\")"
   ]
  },
  {
   "cell_type": "code",
   "execution_count": 122,
   "id": "0515c7ba",
   "metadata": {},
   "outputs": [],
   "source": [
    "def get_number_of_companies(individual_experience):       \n",
    "    companies = set()\n",
    "\n",
    "    # Iterate through the list and add each organization name to the set\n",
    "    for experience in individual_experience:\n",
    "        company_name = experience.get('organisation')\n",
    "        if company_name:\n",
    "            companies.add(company_name)\n",
    "\n",
    "    # Count the number of unique organizations\n",
    "    number_of_companies = len(companies)\n",
    "    \n",
    "    return number_of_companies"
   ]
  },
  {
   "cell_type": "code",
   "execution_count": 123,
   "id": "c2e785b1",
   "metadata": {},
   "outputs": [
    {
     "name": "stdout",
     "output_type": "stream",
     "text": [
      "Number of unique organizations: 2\n"
     ]
    }
   ],
   "source": [
    "number_of_companies = get_number_of_companies(individual_experience)\n",
    "print(f\"Number of unique organizations: {number_of_companies}\")"
   ]
  },
  {
   "cell_type": "code",
   "execution_count": 148,
   "id": "6f5fac4e",
   "metadata": {},
   "outputs": [
    {
     "ename": "IndexError",
     "evalue": "list index out of range",
     "output_type": "error",
     "traceback": [
      "\u001b[1;31m---------------------------------------------------------------------------\u001b[0m",
      "\u001b[1;31mIndexError\u001b[0m                                Traceback (most recent call last)",
      "Cell \u001b[1;32mIn[148], line 15\u001b[0m\n\u001b[0;32m     12\u001b[0m number_of_qualifications \u001b[38;5;241m=\u001b[39m get_number_of_qualifications(ordered_individual_qualifications)\n\u001b[0;32m     13\u001b[0m encoded_attributes[\u001b[38;5;124m'\u001b[39m\u001b[38;5;124mnumber_of_qualifications\u001b[39m\u001b[38;5;124m'\u001b[39m] \u001b[38;5;241m=\u001b[39m number_of_qualifications\n\u001b[1;32m---> 15\u001b[0m first_qualification_level \u001b[38;5;241m=\u001b[39m get_first_qualification_level(ordered_individual_qualifications)\n\u001b[0;32m     16\u001b[0m encoded_attributes[\u001b[38;5;124m'\u001b[39m\u001b[38;5;124mfirst_qualification_level\u001b[39m\u001b[38;5;124m'\u001b[39m] \u001b[38;5;241m=\u001b[39m first_qualification_level\n\u001b[0;32m     18\u001b[0m first_qualification_recency \u001b[38;5;241m=\u001b[39m calculate_first_qualification_recency(ordered_individual_qualifications)\n",
      "Cell \u001b[1;32mIn[12], line 17\u001b[0m, in \u001b[0;36mget_first_qualification_level\u001b[1;34m(ordered_individual_qualifications)\u001b[0m\n\u001b[0;32m      5\u001b[0m qualification_levels \u001b[38;5;241m=\u001b[39m {\n\u001b[0;32m      6\u001b[0m     \u001b[38;5;124m'\u001b[39m\u001b[38;5;124mhigh school\u001b[39m\u001b[38;5;124m'\u001b[39m: \u001b[38;5;241m1\u001b[39m,\n\u001b[0;32m      7\u001b[0m     \u001b[38;5;124m'\u001b[39m\u001b[38;5;124mdiploma\u001b[39m\u001b[38;5;124m'\u001b[39m: \u001b[38;5;241m2\u001b[39m,\n\u001b[1;32m   (...)\u001b[0m\n\u001b[0;32m     13\u001b[0m     \u001b[38;5;124m'\u001b[39m\u001b[38;5;124mphd\u001b[39m\u001b[38;5;124m'\u001b[39m: \u001b[38;5;241m5\u001b[39m\n\u001b[0;32m     14\u001b[0m }\n\u001b[0;32m     16\u001b[0m \u001b[38;5;66;03m# Convert the input string to lowercase for case-insensitive matching\u001b[39;00m\n\u001b[1;32m---> 17\u001b[0m input_string \u001b[38;5;241m=\u001b[39m ordered_individual_qualifications[\u001b[38;5;241m0\u001b[39m][\u001b[38;5;124m'\u001b[39m\u001b[38;5;124mcourse_details\u001b[39m\u001b[38;5;124m'\u001b[39m]\n\u001b[0;32m     18\u001b[0m input_string \u001b[38;5;241m=\u001b[39m input_string\u001b[38;5;241m.\u001b[39mlower()\n\u001b[0;32m     20\u001b[0m \u001b[38;5;66;03m# Iterate through the qualification levels and check if they are in the input string\u001b[39;00m\n",
      "\u001b[1;31mIndexError\u001b[0m: list index out of range"
     ]
    }
   ],
   "source": [
    "encoded_attributes = {}\n",
    "\n",
    "for index, row in df.iterrows():\n",
    "    encoded_attributes['name'] = row['name']  # Use row to access the 'name' column for the current row\n",
    "    \n",
    "    \n",
    "    # Qualifications\n",
    "    individual_qualifications = row['education']\n",
    "    \n",
    "    ordered_individual_qualifications = classify_and_order_qualifications(individual_qualifications)\n",
    "    \n",
    "    number_of_qualifications = get_number_of_qualifications(ordered_individual_qualifications)\n",
    "    encoded_attributes['number_of_qualifications'] = number_of_qualifications\n",
    "    \n",
    "    first_qualification_level = get_first_qualification_level(ordered_individual_qualifications)\n",
    "    encoded_attributes['first_qualification_level'] = first_qualification_level\n",
    "    \n",
    "    first_qualification_recency = calculate_first_qualification_recency(ordered_individual_qualifications)\n",
    "    encoded_attributes['first_qualification_recency'] = first_qualification_recency\n",
    "    \n",
    "#     calculate_qualification_duration(start_time, end_time)\n",
    "    \n",
    "    first_qualification_duration = calculate_first_qualification_duration(ordered_individual_qualifications)\n",
    "    encoded_attributes['first_qualification_duration'] = first_qualification_duration\n",
    "    \n",
    "    last_qualification_level = get_last_qualification_level(ordered_individual_qualifications)\n",
    "    encoded_attributes['last_qualification_level'] = last_qualification_level\n",
    "    \n",
    "    last_qualification_recency = calculate_last_qualification_recency(ordered_individual_qualifications)\n",
    "    encoded_attributes['last_qualification_recency'] = last_qualification_recency\n",
    "    \n",
    "    last_qualification_duration = calculate_last_qualification_duration(ordered_individual_qualifications)\n",
    "    encoded_attributes['last_qualification_duration'] = last_qualification_duration\n",
    "    \n",
    "    max_duration, min_duration, average_duration, total_duration = calculate_qualification_durations(ordered_individual_qualifications)\n",
    "    encoded_attributes['minimum_durations'] = min_duration\n",
    "    encoded_attributes['maximum_durations'] = max_duration\n",
    "    encoded_attributes['total_duration'] = total_duration\n",
    "    encoded_attributes['average_duration'] = average_duration\n",
    "    \n",
    "    \n",
    "    # Experience\n",
    "    individual_experience = row['experience']\n",
    "    \n",
    "    number_of_experience = get_number_of_experience(individual_experience)\n",
    "    encoded_attributes['number_of_experience'] = number_of_experience\n",
    "    \n",
    "    first_job_level = get_first_job_level(individual_experience)\n",
    "    encoded_attributes['first_job_level'] = first_job_level\n",
    "    \n",
    "    first_job_recency = calculate_first_job_recency(individual_experience)\n",
    "    encoded_attributes['first_job_recency'] = first_job_recency\n",
    "    \n",
    "#     calculate_job_duration(duration)\n",
    "    \n",
    "    first_job_duration = calculate_first_job_duration(individual_experience)\n",
    "    encoded_attributes['first_job_duration'] = first_job_duration\n",
    "    \n",
    "    last_job_level = get_last_job_level(individual_experience)\n",
    "    encoded_attributes['last_job_level'] = last_job_level\n",
    "    \n",
    "    last_job_recency = calculate_last_job_recency(individual_experience)\n",
    "    encoded_attributes['last_job_recency'] = last_job_recency\n",
    "    \n",
    "    last_job_duration = calculate_last_job_duration(individual_experience)\n",
    "    encoded_attributes['last_job_duration'] = last_job_duration\n",
    "    \n",
    "    max_duration, min_duration, average_duration, total_duration = calculate_job_durations(individual_experience)\n",
    "    encoded_attributes['minimum_durations'] = min_duration\n",
    "    encoded_attributes['maximum_durations'] = max_duration\n",
    "    encoded_attributes['total_duration'] = total_duration\n",
    "    encoded_attributes['average_duration'] = average_duration\n",
    "    \n",
    "    number_of_companies = get_number_of_companies(individual_experience)\n",
    "    encoded_attributes['number_of_companies'] = number_of_companies\n",
    "    "
   ]
  },
  {
   "cell_type": "code",
   "execution_count": 149,
   "id": "7b2bcc18",
   "metadata": {},
   "outputs": [
    {
     "data": {
      "text/plain": [
       "{'name': 'Harsha Karunanayake',\n",
       " 'number_of_qualifications': 0,\n",
       " 'first_qualification_level': 1,\n",
       " 'first_qualification_recency': 10,\n",
       " 'first_qualification_duration': 2,\n",
       " 'last_qualification_level': 3,\n",
       " 'last_qualification_recency': 4,\n",
       " 'last_qualification_duration': 4,\n",
       " 'minimum_durations': 0.25,\n",
       " 'maximum_durations': 3.25,\n",
       " 'total_duration': 4.416666666666667,\n",
       " 'average_duration': 1.1041666666666667,\n",
       " 'number_of_experience': 4,\n",
       " 'first_job_level': -1,\n",
       " 'first_job_recency': 5.67,\n",
       " 'first_job_duration': 0.5,\n",
       " 'last_job_level': 3,\n",
       " 'last_job_recency': 0,\n",
       " 'last_job_duration': 0.25,\n",
       " 'number_of_companies': 2}"
      ]
     },
     "execution_count": 149,
     "metadata": {},
     "output_type": "execute_result"
    }
   ],
   "source": [
    "encoded_attributes"
   ]
  },
  {
   "cell_type": "code",
   "execution_count": null,
   "id": "a452f9ad",
   "metadata": {},
   "outputs": [],
   "source": []
  }
 ],
 "metadata": {
  "kernelspec": {
   "display_name": "Python 3 (ipykernel)",
   "language": "python",
   "name": "python3"
  },
  "language_info": {
   "codemirror_mode": {
    "name": "ipython",
    "version": 3
   },
   "file_extension": ".py",
   "mimetype": "text/x-python",
   "name": "python",
   "nbconvert_exporter": "python",
   "pygments_lexer": "ipython3",
   "version": "3.11.5"
  }
 },
 "nbformat": 4,
 "nbformat_minor": 5
}
