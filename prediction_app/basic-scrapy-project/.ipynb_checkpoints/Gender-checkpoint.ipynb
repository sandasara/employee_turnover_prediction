{
 "cells": [
  {
   "cell_type": "code",
   "execution_count": 2,
   "id": "51faa911",
   "metadata": {},
   "outputs": [
    {
     "name": "stderr",
     "output_type": "stream",
     "text": [
      "[nltk_data] Downloading package names to\n",
      "[nltk_data]     C:\\Users\\acer\\AppData\\Roaming\\nltk_data...\n",
      "[nltk_data]   Unzipping corpora\\names.zip.\n"
     ]
    },
    {
     "data": {
      "text/plain": [
       "True"
      ]
     },
     "execution_count": 2,
     "metadata": {},
     "output_type": "execute_result"
    }
   ],
   "source": [
    "nltk.download('names')\n"
   ]
  },
  {
   "cell_type": "code",
   "execution_count": 2,
   "id": "fc314898",
   "metadata": {},
   "outputs": [],
   "source": [
    "import pandas as pd\n",
    "\n",
    "file_path_jsonl = r'C:\\Users\\acer\\Downloads\\people_combined.jsonl'\n",
    "\n",
    "# Read the JSONL file\n",
    "df = pd.read_json(file_path_jsonl, lines=True)\n",
    "\n"
   ]
  },
  {
   "cell_type": "code",
   "execution_count": 3,
   "id": "650c9a56",
   "metadata": {},
   "outputs": [
    {
     "data": {
      "text/html": [
       "<div>\n",
       "<style scoped>\n",
       "    .dataframe tbody tr th:only-of-type {\n",
       "        vertical-align: middle;\n",
       "    }\n",
       "\n",
       "    .dataframe tbody tr th {\n",
       "        vertical-align: top;\n",
       "    }\n",
       "\n",
       "    .dataframe thead th {\n",
       "        text-align: right;\n",
       "    }\n",
       "</style>\n",
       "<table border=\"1\" class=\"dataframe\">\n",
       "  <thead>\n",
       "    <tr style=\"text-align: right;\">\n",
       "      <th></th>\n",
       "      <th>profile</th>\n",
       "      <th>url</th>\n",
       "      <th>name</th>\n",
       "      <th>description</th>\n",
       "      <th>location</th>\n",
       "      <th>followers</th>\n",
       "      <th>connections</th>\n",
       "      <th>about</th>\n",
       "      <th>experience</th>\n",
       "      <th>education</th>\n",
       "      <th>certifications</th>\n",
       "      <th>publications</th>\n",
       "      <th>awards</th>\n",
       "    </tr>\n",
       "  </thead>\n",
       "  <tbody>\n",
       "    <tr>\n",
       "      <th>0</th>\n",
       "      <td>harsha-karunanayake-875636a8</td>\n",
       "      <td>https://www.linkedin.com/in/harsha-karunanayak...</td>\n",
       "      <td>Harsha Karunanayake</td>\n",
       "      <td>Process Improvement Consultant at MAS Holdings</td>\n",
       "      <td>Kandy, Central Province, Sri Lanka</td>\n",
       "      <td>2K</td>\n",
       "      <td>500+</td>\n",
       "      <td>Is a Systematic Problem Solver, Ideologist, Pr...</td>\n",
       "      <td>[{'position': 'Process Improvement Consultant'...</td>\n",
       "      <td>[{'organisation': 'University of Kelaniya Sri ...</td>\n",
       "      <td>[{'certification_title': '', 'certification_is...</td>\n",
       "      <td>[]</td>\n",
       "      <td>[]</td>\n",
       "    </tr>\n",
       "    <tr>\n",
       "      <th>1</th>\n",
       "      <td>sagara-lakmal-3b5634103</td>\n",
       "      <td>https://www.linkedin.com/in/sagara-lakmal-3b56...</td>\n",
       "      <td>Sagara Lakmal</td>\n",
       "      <td>Manager - Data Analytics &amp; Governance</td>\n",
       "      <td>Sri Lanka</td>\n",
       "      <td>293</td>\n",
       "      <td>292</td>\n",
       "      <td>None</td>\n",
       "      <td>[{'position': 'Manager - Data Analytics &amp; Gove...</td>\n",
       "      <td>[{'organisation': 'University of Colombo Schoo...</td>\n",
       "      <td>[{'certification_title': 'Learning Data Scienc...</td>\n",
       "      <td>[{'publication_title': 'Interpretive Structura...</td>\n",
       "      <td>[{'award_title': 'Awarded Excellence in Academ...</td>\n",
       "    </tr>\n",
       "  </tbody>\n",
       "</table>\n",
       "</div>"
      ],
      "text/plain": [
       "                        profile  \\\n",
       "0  harsha-karunanayake-875636a8   \n",
       "1       sagara-lakmal-3b5634103   \n",
       "\n",
       "                                                 url                 name  \\\n",
       "0  https://www.linkedin.com/in/harsha-karunanayak...  Harsha Karunanayake   \n",
       "1  https://www.linkedin.com/in/sagara-lakmal-3b56...        Sagara Lakmal   \n",
       "\n",
       "                                      description  \\\n",
       "0  Process Improvement Consultant at MAS Holdings   \n",
       "1           Manager - Data Analytics & Governance   \n",
       "\n",
       "                             location followers connections  \\\n",
       "0  Kandy, Central Province, Sri Lanka        2K        500+   \n",
       "1                           Sri Lanka       293         292   \n",
       "\n",
       "                                               about  \\\n",
       "0  Is a Systematic Problem Solver, Ideologist, Pr...   \n",
       "1                                               None   \n",
       "\n",
       "                                          experience  \\\n",
       "0  [{'position': 'Process Improvement Consultant'...   \n",
       "1  [{'position': 'Manager - Data Analytics & Gove...   \n",
       "\n",
       "                                           education  \\\n",
       "0  [{'organisation': 'University of Kelaniya Sri ...   \n",
       "1  [{'organisation': 'University of Colombo Schoo...   \n",
       "\n",
       "                                      certifications  \\\n",
       "0  [{'certification_title': '', 'certification_is...   \n",
       "1  [{'certification_title': 'Learning Data Scienc...   \n",
       "\n",
       "                                        publications  \\\n",
       "0                                                 []   \n",
       "1  [{'publication_title': 'Interpretive Structura...   \n",
       "\n",
       "                                              awards  \n",
       "0                                                 []  \n",
       "1  [{'award_title': 'Awarded Excellence in Academ...  "
      ]
     },
     "execution_count": 3,
     "metadata": {},
     "output_type": "execute_result"
    }
   ],
   "source": [
    "df"
   ]
  },
  {
   "cell_type": "code",
   "execution_count": 4,
   "id": "703fa5f4",
   "metadata": {},
   "outputs": [
    {
     "name": "stdout",
     "output_type": "stream",
     "text": [
      "Name: Harsha Karunanayake, Gender: female\n",
      "Name: Sagara Lakmal, Gender: male\n"
     ]
    }
   ],
   "source": [
    "# importing libraries \n",
    "\n",
    "import random\n",
    "from nltk.corpus import names\n",
    "import nltk\n",
    "\n",
    "def gender_features(word):\n",
    "    return {'last_letter': word[-1]}\n",
    "\n",
    "# Preparing a list of examples and corresponding class labels.\n",
    "labeled_names = [(name, 'male') for name in names.words('male.txt')] + [(name, 'female') for name in names.words('female.txt')]\n",
    "random.shuffle(labeled_names)\n",
    "\n",
    "# We use the feature extractor to process the names data.\n",
    "featuresets = [(gender_features(n), gender) for (n, gender) in labeled_names]\n",
    "\n",
    "# Divide the resulting list of feature sets into a training set and a test set.\n",
    "train_set, test_set = featuresets[500:], featuresets[:500]\n",
    "\n",
    "# The training set is used to train a new \"naive Bayes\" classifier.\n",
    "classifier = nltk.NaiveBayesClassifier.train(train_set)\n",
    "\n",
    "# Iterate through the 'name' column of your DataFrame and classify each name\n",
    "for name in df['name']:\n",
    "    gender = classifier.classify(gender_features(name))\n",
    "    print(f\"Name: {name}, Gender: {gender}\")\n"
   ]
  },
  {
   "cell_type": "code",
   "execution_count": null,
   "id": "2b3ca110",
   "metadata": {},
   "outputs": [],
   "source": [
    "\n"
   ]
  },
  {
   "cell_type": "code",
   "execution_count": null,
   "id": "5b7756e5",
   "metadata": {},
   "outputs": [],
   "source": [
    "\n"
   ]
  }
 ],
 "metadata": {
  "kernelspec": {
   "display_name": "Python 3 (ipykernel)",
   "language": "python",
   "name": "python3"
  },
  "language_info": {
   "codemirror_mode": {
    "name": "ipython",
    "version": 3
   },
   "file_extension": ".py",
   "mimetype": "text/x-python",
   "name": "python",
   "nbconvert_exporter": "python",
   "pygments_lexer": "ipython3",
   "version": "3.11.5"
  }
 },
 "nbformat": 4,
 "nbformat_minor": 5
}
